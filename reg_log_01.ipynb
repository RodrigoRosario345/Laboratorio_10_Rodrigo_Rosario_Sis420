{
 "cells": [
  {
   "cell_type": "markdown",
   "metadata": {},
   "source": [
    "# Ejercicion de programación - Regresión Logistica\n",
    "\n",
    "En este ejercicio se implementa regresion logistica y se aplica a dos diferentes datasets."
   ]
  },
  {
   "cell_type": "code",
   "execution_count": 290,
   "metadata": {},
   "outputs": [],
   "source": [
    "# se utiliza para el manejo de rutas y directorios.\n",
    "import os\n",
    "\n",
    "# Calculo cientifico y vectorial para python\n",
    "import numpy as np\n",
    "\n",
    "# Pandas es una libreria para el manejo de datos\n",
    "import pandas as pd\n",
    "\n",
    "# Librerias para graficar\n",
    "from matplotlib import pyplot\n",
    "\n",
    "# sklearn.preprocessing es una libreria para el preprocesamiento de datos\n",
    "from sklearn.preprocessing import LabelEncoder\n",
    "\n",
    "# Modulo de optimización de scipy\n",
    "from scipy import optimize\n",
    "\n",
    "import os,sys\n",
    "from scipy import stats\n",
    "\n",
    "# le dice a matplotlib que incruste gráficos en el cuaderno\n",
    "%matplotlib inline"
   ]
  },
  {
   "cell_type": "markdown",
   "metadata": {},
   "source": [
    "## 1 Regresion Logistica\n",
    "\n",
    "En esta parte del ejercicio, creará un modelo de regresión logística para predecir si un estudiante será admitido en una universidad. Suponga que es el administrador de un departamento universitario y desea determinar las posibilidades de admisión de cada solicitante en función de sus resultados en dos exámenes. Tiene datos históricos de solicitantes anteriores que puede usar como un conjunto de capacitación para la regresión logística. Para cada ejemplo de capacitación, se tiene las calificaciones del solicitante en dos exámenes y la decisión de admisión. Su tarea es crear un modelo de clasificación que calcule la probabilidad de admisión de un solicitante en función de los puntajes de esos dos exámenes.\n",
    "\n",
    "La siguiente celda cargará los datos y las etiquetas correspondientes:"
   ]
  },
  {
   "cell_type": "code",
   "execution_count": 291,
   "metadata": {},
   "outputs": [
    {
     "name": "stdout",
     "output_type": "stream",
     "text": [
      "[[1 0 0 1 2 29.85]\n",
      " [34 1 1 0 3 56.95]\n",
      " [2 1 0 1 3 53.85]\n",
      " ...\n",
      " [72 1 1 1 1 103.2]\n",
      " [11 0 0 1 2 29.6]\n",
      " [4 1 0 1 3 74.4]]\n",
      "[0 0 1 ... 0 0 1]\n",
      "7042\n",
      "<class 'pandas.core.frame.DataFrame'>\n",
      "RangeIndex: 7042 entries, 0 to 7041\n",
      "Data columns (total 9 columns):\n",
      " #   Column            Non-Null Count  Dtype  \n",
      "---  ------            --------------  -----  \n",
      " 0   customerID        7042 non-null   object \n",
      " 1   tenure            7042 non-null   int64  \n",
      " 2   PhoneService      7042 non-null   object \n",
      " 3   Contract          7042 non-null   object \n",
      " 4   PaperlessBilling  7042 non-null   object \n",
      " 5   PaymentMethod     7042 non-null   object \n",
      " 6   MonthlyCharges    7042 non-null   float64\n",
      " 7   TotalCharges      7042 non-null   object \n",
      " 8   Churn             7042 non-null   object \n",
      "dtypes: float64(1), int64(1), object(7)\n",
      "memory usage: 495.3+ KB\n"
     ]
    }
   ],
   "source": [
    "# Cargar datos\n",
    "# Las dos primeras columnas contienen la nota de dos examenes y la tercera columna\n",
    "# contiene la etiqueta que indica si el alumno ingreso o no a la universidad.\n",
    "# data = np.loadtxt(os.path.join('Datasets', 'ex2data1.txt'), delimiter=',')\n",
    "# X, y = data[:, 0:2], data[:, 2]\n",
    "\n",
    "\n",
    "dataset = pd.read_csv('churn_data.csv', sep=',')\n",
    "\n",
    "X = dataset.iloc[:, 1:7].values\n",
    "# varNan = dataset.iloc[:, :-1].values\n",
    "y = dataset.iloc[:, 8].values\n",
    "\n",
    "longitud = len(X)\n",
    "\n",
    "siete = dataset.iloc[:, 7].values\n",
    "\n",
    "# X[:, 6] = X[:, 6].astype(str)\n",
    "\n",
    "# # X[:, 6]= X[:, 6].str.replace('\\'','')\n",
    "\n",
    "# X[:, 6]= X[:, 6].replace('\\\"','')\n",
    "\n",
    "\n",
    "\n",
    "\n",
    "\n",
    "\n",
    "\n",
    "\n",
    "#recorrer X y cambiar los datos string por numeros\n",
    "\n",
    "# for fila in X:\n",
    "#     for columna in fila:\n",
    "        \n",
    "# converitir datos string a numeros float\n",
    "\n",
    "# Utilice la función float() para comprobar si una cadena es un número en Python.\n",
    "\n",
    "\n",
    "\n",
    "# a = X[:, 6]\n",
    "# X[:, 6] = np.asarray(a, dtype=float)\n",
    "\n",
    "\n",
    "# X[:, 7] = np.asarray(a, dtype=float)\n",
    "# contador = 0\n",
    "# while contador<= longitud:\n",
    "# \ttry:\n",
    "# \t\tX[:, 7] =  float(X[: , 7])\n",
    "# \texcept:\n",
    "# \t\tprint (\"Not a number\")\n",
    "# \tcontador = contador + 1\n",
    "\n",
    "\n",
    "# for fila in X:\n",
    "#     for columna in fila:\n",
    "#         if type(columna[7]) == str: # \n",
    "#             columna = float(columna)\n",
    "#             print(columna)\n",
    "#         else:\n",
    "#             print('es numero')\n",
    "\n",
    "\n",
    "# print(X)\n",
    "# print(y)\n",
    "# print(longitud)\n",
    "\n",
    "#recorrer los valores de X con un for\n",
    "\n",
    "\n",
    "\n",
    "#converirir variables categoricas a numericas\n",
    "\n",
    "# LabelEncoder_X = LabelEncoder() # crear objeto de la clase LabelEncoder para codificar las variables categoricas en variables entero (0,1,2,3,4,5,6,7,8,9) en este caso solo hay dos categorias (0,1)\n",
    "\n",
    "# X[:, 0] = LabelEncoder_X.fit_transform(X[:, 0]) # codificar las variables categoricas en variables entero (0,1,2,3,4,5,6,7,8,9) en este caso solo hay dos categorias (0,1)\n",
    "\n",
    "LabelEncoder_X = LabelEncoder() # crear objeto de la clase LabelEncoder para codificar las variables categoricas en variables entero (0,1,2,3,4,5,6,7,8,9) en este caso solo hay dos categorias (0,1)\n",
    "\n",
    "X[:, 1] = LabelEncoder_X.fit_transform(X[:, 1])\n",
    "\n",
    "LabelEncoder_X = LabelEncoder() # crear objeto de la clase LabelEncoder para codificar las variables categoricas en variables entero (0,1,2,3,4,5,6,7,8,9) en este caso solo hay dos categorias (0,1)\n",
    "\n",
    "X[:, 2] = LabelEncoder_X.fit_transform(X[:, 2])\n",
    "\n",
    "LabelEncoder_X = LabelEncoder() # crear objeto de la clase LabelEncoder para codificar las variables categoricas en variables entero (0,1,2,3,4,5,6,7,8,9) en este caso solo hay dos categorias (0,1)\n",
    "\n",
    "X[:, 3] = LabelEncoder_X.fit_transform(X[:, 3])\n",
    "\n",
    "LabelEncoder_X = LabelEncoder() # crear objeto de la clase LabelEncoder para codificar las variables categoricas en variables entero (0,1,2,3,4,5,6,7,8,9) en este caso solo hay dos categorias (0,1)\n",
    "\n",
    "X[:, 4] = LabelEncoder_X.fit_transform(X[:, 4])\n",
    "\n",
    "#----------------------------------------------conversion para la variable dependiente (y)----------------------------------------------\n",
    "\n",
    "LabelEncoder_y= LabelEncoder() # crear objeto de la clase LabelEncoder para codificar las variables categoricas en variables entero (0,1,2,3,4,5,6,7,8,9) en este caso solo hay dos categorias (0,1)\n",
    "\n",
    "y = LabelEncoder_y.fit_transform(y)\n",
    "\n",
    "# X[:, 6] = X[:, 6].astype(float)\n",
    "\n",
    "\n",
    "\n",
    "print(X)\n",
    "print(y)\n",
    "print(longitud)\n",
    "\n",
    "dataset.info()\n"
   ]
  },
  {
   "cell_type": "markdown",
   "metadata": {},
   "source": [
    "### 1.1 Visualizar los datos\n",
    "\n",
    "Antes de comenzar a implementar cualquier algoritmo de aprendizaje, siempre es bueno visualizar los datos si es posible. Mostramos los datos en una gráfica bidimensional llamando a la función `plotData`. Se completará el código en `plotData` para que muestre una figura donde los ejes son los dos puntajes de los dos examenes, los ejemplos positivos y negativos se muestran con diferentes marcadores."
   ]
  },
  {
   "cell_type": "code",
   "execution_count": 292,
   "metadata": {},
   "outputs": [],
   "source": [
    "def plotData(X, y):\n",
    "    # Gragica los puntos de datos X y y en una nueva figura. Grafica los puntos de datos con * para los positivos y \n",
    "    # o para los negativos.\n",
    "    \n",
    "    # Crea una nueva figura\n",
    "    fig = pyplot.figure()\n",
    "\n",
    "    # Find Indices of Positive and Negative Examples\n",
    "    pos = y == 1\n",
    "    neg = y == 0\n",
    "\n",
    "    # Plot Examples\n",
    "    pyplot.plot(X[pos, 0], X[pos, 1], 'k*', lw=2, ms=10)\n",
    "    pyplot.plot(X[neg, 0], X[neg, 1], 'ko', mfc='y', ms=8, mec='k', mew=1)\n",
    "    "
   ]
  },
  {
   "cell_type": "markdown",
   "metadata": {},
   "source": [
    "Se llama a la función implementada para mostrar los datos cargados:"
   ]
  },
  {
   "cell_type": "code",
   "execution_count": 293,
   "metadata": {},
   "outputs": [
    {
     "data": {
      "image/png": "[encoded data removed]",
      "text/plain": [
       "<Figure size 640x480 with 1 Axes>"
      ]
     },
     "metadata": {},
     "output_type": "display_data"
    }
   ],
   "source": [
    "plotData(X, y)\n",
    "# adiciona etiquetas para los ejes\n",
    "pyplot.xlabel('Calificación Examen 1')\n",
    "pyplot.ylabel('Calificación Examen 2')\n",
    "pyplot.legend(['Admitido', 'No admitido'])\n",
    "pass"
   ]
  },
  {
   "cell_type": "markdown",
   "metadata": {},
   "source": [
    "<a id=\"section1\"></a>\n",
    "### 1.2 Implementacion\n",
    "\n",
    "#### 1.2.1 Fución Sigmoidea\n",
    "\n",
    "La hipotesis para la regresión logistica se define como:\n",
    "\n",
    "$$ h_\\theta(x) = g(\\theta^T x)$$\n",
    "\n",
    "donde la función $g$ is la función sigmoidea. La función sigmoidea se define como: \n",
    "\n",
    "$$g(z) = \\frac{1}{1+e^{-z}}$$.\n",
    "\n",
    "Los resultados que debe generar la funcion sigmoidea para valores positivos amplios de `x`, deben ser cercanos a 1, mientras que para valores negativos grandes, la sigmoide debe generar valores cercanos 0. La evaluacion de `sigmoid(0)` debe dar un resultado exacto de 0.5. Esta funcion tambien debe poder trabajar con vectores y matrices."
   ]
  },
  {
   "cell_type": "code",
   "execution_count": 294,
   "metadata": {},
   "outputs": [],
   "source": [
    "def sigmoid(z):\n",
    "    # Calcula la sigmoide de una entrada z\n",
    "    # convierte la intrada a un arreglo numpy\n",
    "    \n",
    "    z = np.array(z)\n",
    "  \n",
    "    g = np.zeros(z.shape)\n",
    "\n",
    "    print(np.exp(-z))    \n",
    "    g = 1 / (1 + np.exp(-z))\n",
    "\n",
    "    return g"
   ]
  },
  {
   "cell_type": "markdown",
   "metadata": {},
   "source": [
    "Se calcula el valor de la sigmoide aplicando la funcion sigmoid con `z=0`, se debe obtener un resultado de 0.5. RE recomienda experimentar con otros valores de `z`."
   ]
  },
  {
   "cell_type": "code",
   "execution_count": 295,
   "metadata": {},
   "outputs": [
    {
     "name": "stdout",
     "output_type": "stream",
     "text": [
      "1.0\n",
      "g( 0 ) =  0.5\n"
     ]
    }
   ],
   "source": [
    "# Prueba la implementacion de la funcion sigmoid\n",
    "z = 0\n",
    "g = sigmoid(z)\n",
    "\n",
    "print('g(', z, ') = ', g)"
   ]
  },
  {
   "cell_type": "markdown",
   "metadata": {},
   "source": [
    "<a id=\"section2\"></a>\n",
    "#### 1.2.2 Función de Costo y Gradiente\n",
    "\n",
    "Se implementa la funcion cost y gradient, para la regresión logistica. Antes de continuar es importante agregar el termino de intercepcion a X. "
   ]
  },
  {
   "cell_type": "code",
   "execution_count": 296,
   "metadata": {},
   "outputs": [
    {
     "name": "stdout",
     "output_type": "stream",
     "text": [
      "[1.0 8 1 0 1 2 99.65]\n"
     ]
    }
   ],
   "source": [
    "# Configurar la matriz adecuadamente, y agregar una columna de unos que corresponde al termino de intercepción. \n",
    "m, n = X.shape\n",
    "# Agraga el termino de intercepción a A\n",
    "X = np.concatenate([np.ones((m, 1)), X], axis=1)\n",
    "\n",
    "print(X[5])"
   ]
  },
  {
   "cell_type": "markdown",
   "metadata": {},
   "source": [
    "La funcion de costo en una regresión logistica es:\n",
    "\n",
    "$$ J(\\theta) = \\frac{1}{m} \\sum_{i=1}^{m} \\left[ -y^{(i)} \\log\\left(h_\\theta\\left( x^{(i)} \\right) \\right) - \\left( 1 - y^{(i)}\\right) \\log \\left( 1 - h_\\theta\\left( x^{(i)} \\right) \\right) \\right]$$\n",
    "\n",
    "y el gradiente del costo es un vector de la misma longitud como $\\theta$ donde el elemento $j^{th}$ (para $j = 0, 1, \\cdots , n$) se define como:\n",
    "\n",
    "$$ \\frac{\\partial J(\\theta)}{\\partial \\theta_j} = \\frac{1}{m} \\sum_{i=1}^m \\left( h_\\theta \\left( x^{(i)} \\right) - y^{(i)} \\right) x_j^{(i)} $$\n",
    "\n",
    "Si bien este gradiente parece idéntico al gradiente de regresión lineal, la fórmula es diferente porque la regresión lineal y logística tienen diferentes definiciones de $h_\\theta(x)$.\n",
    "<a id=\"costFunction\"></a>"
   ]
  },
  {
   "cell_type": "code",
   "execution_count": 297,
   "metadata": {},
   "outputs": [],
   "source": [
    "def calcularCosto(theta, X, y):\n",
    "    # Inicializar algunos valores utiles\n",
    "    m = y.size  # numero de ejemplos de entrenamiento\n",
    "    print(X.dot(theta.T))\n",
    "    J = 0\n",
    "    h = sigmoid(X.dot(theta.T))\n",
    "    J = (1 / m) * np.sum(-y.dot(np.log(h)) - (1 - y).dot(np.log(1 - h)))\n",
    "    \n",
    "    return J"
   ]
  },
  {
   "cell_type": "code",
   "execution_count": 298,
   "metadata": {},
   "outputs": [],
   "source": [
    "def descensoGradiente(theta, X, y, alpha, num_iters):\n",
    "    # Inicializa algunos valores\n",
    "    m = y.shape[0] # numero de ejemplos de entrenamiento\n",
    "    \n",
    "    # realiza una copia de theta, el cual será acutalizada por el descenso por el gradiente\n",
    "    theta = theta.copy()\n",
    "    J_history = []\n",
    "    \n",
    "    for i in range(num_iters):\n",
    "        h = sigmoid(X.dot(theta.T))\n",
    "        theta = theta - (alpha / m) * (h - y).dot(X)\n",
    "       \n",
    "        J_history.append(calcularCosto(theta, X, y))\n",
    "    return theta, J_history"
   ]
  },
  {
   "cell_type": "code",
   "execution_count": 299,
   "metadata": {
    "scrolled": true
   },
   "outputs": [
    {
     "ename": "TypeError",
     "evalue": "loop of ufunc does not support argument 0 of type float which has no callable exp method",
     "output_type": "error",
     "traceback": [
      "\u001b[1;31m---------------------------------------------------------------------------\u001b[0m",
      "\u001b[1;31mAttributeError\u001b[0m                            Traceback (most recent call last)",
      "\u001b[1;31mAttributeError\u001b[0m: 'float' object has no attribute 'exp'",
      "\nThe above exception was the direct cause of the following exception:\n",
      "\u001b[1;31mTypeError\u001b[0m                                 Traceback (most recent call last)",
      "Cell \u001b[1;32mIn [299], line 7\u001b[0m\n\u001b[0;32m      5\u001b[0m \u001b[39m# inicializa theta y ejecuta el descenso por el gradiente\u001b[39;00m\n\u001b[0;32m      6\u001b[0m theta \u001b[39m=\u001b[39m np\u001b[39m.\u001b[39mzeros(\u001b[39m7\u001b[39m)\n\u001b[1;32m----> 7\u001b[0m theta, J_history \u001b[39m=\u001b[39m descensoGradiente(theta, X, y, alpha, num_iters)\n\u001b[0;32m      9\u001b[0m \u001b[39m# Grafica la convergencia del costo\u001b[39;00m\n\u001b[0;32m     10\u001b[0m pyplot\u001b[39m.\u001b[39mplot(np\u001b[39m.\u001b[39marange(\u001b[39mlen\u001b[39m(J_history)), J_history, lw\u001b[39m=\u001b[39m\u001b[39m2\u001b[39m)\n",
      "Cell \u001b[1;32mIn [298], line 10\u001b[0m, in \u001b[0;36mdescensoGradiente\u001b[1;34m(theta, X, y, alpha, num_iters)\u001b[0m\n\u001b[0;32m      7\u001b[0m J_history \u001b[39m=\u001b[39m []\n\u001b[0;32m      9\u001b[0m \u001b[39mfor\u001b[39;00m i \u001b[39min\u001b[39;00m \u001b[39mrange\u001b[39m(num_iters):\n\u001b[1;32m---> 10\u001b[0m     h \u001b[39m=\u001b[39m sigmoid(X\u001b[39m.\u001b[39;49mdot(theta\u001b[39m.\u001b[39;49mT))\n\u001b[0;32m     11\u001b[0m     theta \u001b[39m=\u001b[39m theta \u001b[39m-\u001b[39m (alpha \u001b[39m/\u001b[39m m) \u001b[39m*\u001b[39m (h \u001b[39m-\u001b[39m y)\u001b[39m.\u001b[39mdot(X)\n\u001b[0;32m     13\u001b[0m     J_history\u001b[39m.\u001b[39mappend(calcularCosto(theta, X, y))\n",
      "Cell \u001b[1;32mIn [294], line 9\u001b[0m, in \u001b[0;36msigmoid\u001b[1;34m(z)\u001b[0m\n\u001b[0;32m      5\u001b[0m z \u001b[39m=\u001b[39m np\u001b[39m.\u001b[39marray(z)\n\u001b[0;32m      7\u001b[0m g \u001b[39m=\u001b[39m np\u001b[39m.\u001b[39mzeros(z\u001b[39m.\u001b[39mshape)\n\u001b[1;32m----> 9\u001b[0m \u001b[39mprint\u001b[39m(np\u001b[39m.\u001b[39;49mexp(\u001b[39m-\u001b[39;49mz))    \n\u001b[0;32m     10\u001b[0m g \u001b[39m=\u001b[39m \u001b[39m1\u001b[39m \u001b[39m/\u001b[39m (\u001b[39m1\u001b[39m \u001b[39m+\u001b[39m np\u001b[39m.\u001b[39mexp(\u001b[39m-\u001b[39mz))\n\u001b[0;32m     12\u001b[0m \u001b[39mreturn\u001b[39;00m g\n",
      "\u001b[1;31mTypeError\u001b[0m: loop of ufunc does not support argument 0 of type float which has no callable exp method"
     ]
    }
   ],
   "source": [
    "# Elegir algun valor para alpha (probar varias alternativas)\n",
    "alpha = 0.001\n",
    "num_iters = 100\n",
    "\n",
    "# inicializa theta y ejecuta el descenso por el gradiente\n",
    "theta = np.zeros(7)\n",
    "theta, J_history = descensoGradiente(theta, X, y, alpha, num_iters)\n",
    "\n",
    "# Grafica la convergencia del costo\n",
    "pyplot.plot(np.arange(len(J_history)), J_history, lw=2)\n",
    "pyplot.xlabel('Numero de iteraciones')\n",
    "pyplot.ylabel('Costo J')\n",
    "\n",
    "# Muestra los resultados del descenso por el gradiente\n",
    "print('theta calculado por el descenso por el gradiente: {:s}'.format(str(theta)))\n",
    "\n",
    "# verificar si ingresa o no a la universidad\n",
    "X_array = [1, 34, 1, 1, 0, 3, 56.95]\n",
    "aprueba = sigmoid(np.dot(X_array, theta))   # Se debe cambiar esto\n",
    "\n",
    "print(f\"Un estudiante con nota del examen 1: {X_array[1]} y nota del examen 2: {X_array[2]} (usando el descenso por el gradiente):{aprueba}\")"
   ]
  },
  {
   "cell_type": "code",
   "execution_count": null,
   "metadata": {},
   "outputs": [],
   "source": [
    "def costFunction(theta, X, y):\n",
    "    # Inicializar algunos valores utiles\n",
    "    m = y.size  # numero de ejemplos de entrenamiento\n",
    "\n",
    "    J = 0\n",
    "    grad = np.zeros(theta.shape)\n",
    "\n",
    "    h = sigmoid(X.dot(theta.T))\n",
    "    \n",
    "    J = (1 / m) * np.sum(-y.dot(np.log(h)) - (1 - y).dot(np.log(1 - h)))\n",
    "    grad = (1 / m) * (h - y).dot(X)\n",
    "    \n",
    "    return J, grad"
   ]
  },
  {
   "cell_type": "markdown",
   "metadata": {},
   "source": [
    "Se prueba la funcion `costFunction` utilizando dos casos de prueba para $\\theta$."
   ]
  },
  {
   "cell_type": "code",
   "execution_count": null,
   "metadata": {},
   "outputs": [
    {
     "name": "stdout",
     "output_type": "stream",
     "text": [
      "[0. 0. 0.]\n",
      "Costo en theta inicial (zeros): 0.693\n",
      "Costo esperado (aproximado): 0.693\n",
      "\n",
      "[ -0.1        -12.00921659 -11.26284221]\n",
      "Gradiente en theta inicial (zeros):\n",
      "\t[-0.1000, -12.0092, -11.2628]\n",
      "Gradiente esperado (aproximado):\n",
      "\t[-0.1000, -12.0092, -11.2628]\n",
      "\n"
     ]
    }
   ],
   "source": [
    "# Inicializacion de parametros de ajuste\n",
    "initial_theta = np.zeros(n+1)\n",
    "print(initial_theta)\n",
    "cost, grad = costFunction(initial_theta, X, y)\n",
    "\n",
    "print('Costo en theta inicial (zeros): {:.3f}'.format(cost))\n",
    "print('Costo esperado (aproximado): 0.693\\n')\n",
    "print(grad)\n",
    "print('Gradiente en theta inicial (zeros):')\n",
    "print('\\t[{:.4f}, {:.4f}, {:.4f}]'.format(*grad))\n",
    "print('Gradiente esperado (aproximado):\\n\\t[-0.1000, -12.0092, -11.2628]\\n')\n",
    "\n"
   ]
  },
  {
   "cell_type": "code",
   "execution_count": null,
   "metadata": {},
   "outputs": [
    {
     "name": "stdout",
     "output_type": "stream",
     "text": [
      "[-24.    0.2   0.2]\n",
      "Costo en theta prueba: 0.218\n",
      "Costo esperado (aproximado): 0.218\n",
      "\n",
      "Gradiente en theta prueba:\n",
      "\t[0.043, 2.566, 2.647]\n",
      "Gradiente esperado (aproximado):\n",
      "\t[0.043, 2.566, 2.647]\n"
     ]
    }
   ],
   "source": [
    "# Calcula y muestra el costo y el gradiente con valores de theta diferentes a cero\n",
    "\n",
    "test_theta = np.array([-24, 0.2, 0.2])\n",
    "#test_theta = np.array([-11.74749157, 0.09927308, 0.09316497])\n",
    "print(test_theta)\n",
    "cost, grad = costFunction(test_theta, X, y)\n",
    "\n",
    "print('Costo en theta prueba: {:.3f}'.format(cost))\n",
    "print('Costo esperado (aproximado): 0.218\\n')\n",
    "\n",
    "print('Gradiente en theta prueba:')\n",
    "print('\\t[{:.3f}, {:.3f}, {:.3f}]'.format(*grad))\n",
    "print('Gradiente esperado (aproximado):\\n\\t[0.043, 2.566, 2.647]')"
   ]
  },
  {
   "cell_type": "markdown",
   "metadata": {},
   "source": [
    "#### 1.2.3 Parámetros de aprendizaje usando `scipy.optimize`\n",
    "\n",
    "En el codigo anterior se encontró los parámetros óptimos de un modelo de regresión lineal al implementar el descenso de gradiente. Se implemento una función de costo y se calculó su gradiente, utilizando el algoritmo del descenso por el gradiente.\n",
    "\n",
    "En lugar de realizar los pasos del descenso por el gradiente, se utilizará el [módulo `scipy.optimize`] (https://docs.scipy.org/doc/scipy/reference/optimize.html). SciPy es una biblioteca de computación numérica para `python`. Proporciona un módulo de optimización para la búsqueda y minimización de raíces. A partir de `scipy 1.0`, la función` scipy.optimize.minimize` es el método a utilizar para problemas de optimización (tanto restringidos como no restringidos).\n",
    "\n",
    "For logistic regression, you want to optimize the cost function $J(\\theta)$ with parameters $\\theta$.\n",
    "Concretely, you are going to use `optimize.minimize` to find the best parameters $\\theta$ for the logistic regression cost function, given a fixed dataset (of X and y values). You will pass to `optimize.minimize` the following inputs:\n",
    "\n",
    "Para la regresión logística, se desea optimizar la función de costo $J(\\theta)$ con los parámetros $\\theta$.\n",
    "Concretamente, se va a utilizar `optimize.minimize` para encontrar los mejores parámetros $\\theta$ para la función de costo de regresión logística, dado un dataset fijo (de valores X e y). Se pasara a `optimize.minimize` las siguientes entradas:\n",
    "\n",
    "- `costFunction`: Una función de costo que, cuando se le da el dataset de entrenamiento y un $\\theta$ particular, calcula el costo de regresión logística y el gradiente con respecto a $\\theta$ para el dataset(X, y). Es importante tener en cuenta que solo se pasa el nombre de la función sin el paréntesis. Esto indica que solo proporcionamos una referencia a esta función y no evaluamos el resultado de esta función.\n",
    "- `initial_theta`: Los valores iniciales de los parametros que se tratan de optimizar.\n",
    "- `(X, y)`: Estos son argumentos adicionales a la funcion de costo.\n",
    "- `jac`: Indicación si la función de costo devuelve el jacobiano (gradiente) junto con el valor de costo. (True)\n",
    "- `method`: Método / algoritmo de optimización a utilizar\n",
    "- `options`: Opciones adicionales que pueden ser específicas del método de optimización específico. Solo se indica al algoritmo el número máximo de iteraciones antes de que termine.\n",
    "\n",
    "Si se ha completado la `costFunction` correctamente,`optimize.minimize` convergerá en los parámetros de optimización correctos y devolverá los valores finales del costo y $\\theta$ en un objeto de clase.\n",
    "\n",
    "Al usar `optimize.minimize`, no se tuvo que escribir ningún bucle ni establecer una tasa de aprendizaje como se hizo para el descenso de gradientes. Todo esto se hace mediante `optimize.minimize`: solo se necesita proporcionar una función que calcule el costo y el gradiente.\n",
    "\n",
    "A continuación, se tiene el código para llamar a `optimize.minimize` con los argumentos correctos."
   ]
  },
  {
   "cell_type": "code",
   "execution_count": null,
   "metadata": {
    "scrolled": true
   },
   "outputs": [
    {
     "name": "stdout",
     "output_type": "stream",
     "text": [
      "Costo con un valor de theta encontrado por optimize.minimize: 0.203\n",
      "Costo esperado (aproximado): 0.203\n",
      "\n",
      "theta:\n",
      "\t[-25.161, 0.206, 0.201]\n",
      "Theta esperado (aproximado):\n",
      "\t[-25.161, 0.206, 0.201]\n"
     ]
    }
   ],
   "source": [
    "# Establecer las opciones para optimize.minimize\n",
    "options= {'maxiter': 1000}\n",
    "\n",
    "# revisar la documentacion de scipy's optimize.minimize para mayor descripcion de los parametros\n",
    "# La funcion devuekve un objeto `OptimizeResult`\n",
    "# Se utiliza el algoritmo de Newton truncado para la optimización.\n",
    "res = optimize.minimize(costFunction,\n",
    "                        initial_theta,\n",
    "                        (X, y),\n",
    "                        jac=True,\n",
    "                        method='TNC',\n",
    "                        options=options)\n",
    "\n",
    "# la propiedad fun del objeto devuelto por `OptimizeResult`\n",
    "# contiene el valor del costFunction de un theta optimizado\n",
    "cost = res.fun\n",
    "\n",
    "# Theta optimizada esta en la propiedad x\n",
    "theta = res.x\n",
    "\n",
    "# Imprimir theta en la pantalla\n",
    "print('Costo con un valor de theta encontrado por optimize.minimize: {:.3f}'.format(cost))\n",
    "print('Costo esperado (aproximado): 0.203\\n');\n",
    "\n",
    "print('theta:')\n",
    "print('\\t[{:.3f}, {:.3f}, {:.3f}]'.format(*theta))\n",
    "print('Theta esperado (aproximado):\\n\\t[-25.161, 0.206, 0.201]')"
   ]
  },
  {
   "cell_type": "markdown",
   "metadata": {},
   "source": [
    "Una vez que se completa `optimize.minimize`, se usa el valor final de $\\theta$ para visualizar el límite de decisión en los datos de entrenamiento.\n",
    "\n",
    "Para hacerlo, se implementa la función `plotDecisionBoundary` para trazar el límite de decisión sobre los datos de entrenamiento."
   ]
  },
  {
   "cell_type": "code",
   "execution_count": null,
   "metadata": {},
   "outputs": [],
   "source": [
    "def plotDecisionBoundary(plotData, theta, X, y):\n",
    "    \"\"\"\n",
    "    Grafica los puntos X y Y en una nueva figura con un limite de desicion definido por theta.\n",
    "    the data points X and y into a new figure with the decision boundary defined by theta.\n",
    "    Grafica los puntos con * para los ejemplos positivos y con o para los ejemplos negativos.\n",
    "    \n",
    "    Parametros:\n",
    "    ----------\n",
    "    plotData : func\n",
    "        A function reference for plotting the X, y data.\n",
    "\n",
    "    theta : array_like\n",
    "        Parametros para la regresion logistica. Un vecto de la forma (n+1, ).\n",
    "\n",
    "    X : array_like\n",
    "        Data set de entrada. Se supone que X es una de las siguientes:\n",
    "            1) Matriz Mx3, donde la primera columna es una columna de unos para intercepción.\n",
    "            2) Matriz MxN, N> 3, donde la primera columna son todos unos.\n",
    "\n",
    "    y : array_like\n",
    "        Vector de datos de etiquetas de la forma (m, ).\n",
    "    \"\"\"\n",
    "    # hacer que theta sera un arreglo numpy\n",
    "    theta = np.array(theta)\n",
    "\n",
    "    # Graficar los datos (recordar que la primera columna en X es la intercepción)\n",
    "    plotData(X[:, 1:3], y)\n",
    "\n",
    "    if X.shape[1] <= 3:\n",
    "        # Solo se requieren 2 puntos para definir una linea, para lo cual se eligen dos puntos finales\n",
    "        plot_x = np.array([np.min(X[:, 1]) - 2, np.max(X[:, 1]) + 2])\n",
    "\n",
    "        # Calcular la línea límite de decisión\n",
    "        plot_y = (-1. / theta[2]) * (theta[1] * plot_x + theta[0])\n",
    "\n",
    "        print(plot_x)\n",
    "        print(plot_y)\n",
    "        # Graficar y ajustar los ejes para una mejor visualización\n",
    "        pyplot.plot(plot_x, plot_y)\n",
    "\n",
    "        # Leyenda, especifica para el ejercicio\n",
    "        pyplot.legend(['Admitido', 'No admitido', 'Limite de decisión'])\n",
    "        pyplot.xlim([30, 100])\n",
    "        pyplot.ylim([30, 100])\n",
    "    else:\n",
    "        # Rango de la grilla\n",
    "        u = np.linspace(-1, 1.5, 50)\n",
    "        v = np.linspace(-1, 1.5, 50)\n",
    "\n",
    "        z = np.zeros((u.size, v.size))\n",
    "        # Evalua z = theta*x sobre la grilla\n",
    "        for i, ui in enumerate(u):\n",
    "            for j, vj in enumerate(v):\n",
    "                z[i, j] = np.dot(mapFeature(ui, vj), theta)\n",
    "\n",
    "        z = z.T  # importante transponer z antes de llamar al contorno\n",
    "        # print(z)\n",
    "\n",
    "        # Plot z = 0\n",
    "        pyplot.contour(u, v, z, levels=[0], linewidths=2, colors='g')\n",
    "        pyplot.contourf(u, v, z, levels=[np.min(z), 0, np.max(z)], cmap='Greens', alpha=0.4)\n"
   ]
  },
  {
   "cell_type": "code",
   "execution_count": null,
   "metadata": {},
   "outputs": [
    {
     "name": "stdout",
     "output_type": "stream",
     "text": [
      "[ 28.05882245 101.8278578 ]\n",
      "[96.16598095 20.65402814]\n"
     ]
    },
    {
     "data": {
      "image/png": "[encoded data removed]",
      "text/plain": [
       "<Figure size 432x288 with 1 Axes>"
      ]
     },
     "metadata": {
      "needs_background": "light"
     },
     "output_type": "display_data"
    }
   ],
   "source": [
    "# Graficar limites\n",
    "plotDecisionBoundary(plotData, theta, X, y)"
   ]
  },
  {
   "cell_type": "markdown",
   "metadata": {},
   "source": [
    "<a id=\"section4\"></a>\n",
    "#### 1.2.4 Evaluación de la regresión logistica\n",
    "\n",
    "Después de aprender los parámetros, se puede usar el modelo para predecir si un estudiante en particular será admitido. Para un estudiante con una puntuación en el Examen 1 de 45 y una puntuación en el Examen 2 de 85, debe esperar ver una probabilidad de admisión de 0,776. Otra forma de evaluar la calidad de los parámetros que hemos encontrado es ver qué tan bien predice el modelo aprendido en nuestro conjunto de entrenamiento. "
   ]
  },
  {
   "cell_type": "code",
   "execution_count": null,
   "metadata": {},
   "outputs": [],
   "source": [
    "def predict(theta, X):\n",
    "    \"\"\"\n",
    "    Predecir si la etiqueta es 0 o 1 mediante regresión logística aprendida.\n",
    "    Calcula las predicciones para X usando un umbral en 0.5 (es decir, si sigmoide (theta.T * x)> = 0.5, predice 1)\n",
    "\n",
    "    Parametros\n",
    "    ----------\n",
    "    theta : array_like\n",
    "        Parametros para regresion logistica. Un vecto de la forma (n+1, ).\n",
    "    \n",
    "    X : array_like\n",
    "        Datos utilizados para el calculo de las predicciones. \n",
    "        La fila es el numero de los puntos para calcular las predicciones, \n",
    "        y las columnas con el numero de caracteristicas.\n",
    "\n",
    "    Devuelve\n",
    "    -------\n",
    "    p : array_like\n",
    "        Predicciones y 0 o 1 para cada fila en X. \n",
    "    \"\"\"\n",
    "    m = X.shape[0] # Numero de ejemplo de entrenamiento\n",
    "\n",
    "    p = np.zeros(m)\n",
    "\n",
    "    p = np.round(sigmoid(X.dot(theta.T)))\n",
    "    return p"
   ]
  },
  {
   "cell_type": "markdown",
   "metadata": {},
   "source": [
    "Una vez entrenado el modelo se procede a realizar la prediccion y evaluación de los resultados de predecir cual es el valor que vota el modelo para todos los datos utilizados en el entrenamiento."
   ]
  },
  {
   "cell_type": "code",
   "execution_count": null,
   "metadata": {},
   "outputs": [
    {
     "name": "stdout",
     "output_type": "stream",
     "text": [
      "Para un estudiante con notas de 45 y 85, se predice una probabilidad de admisión de: 0.776%\n",
      "Valor esperado: 0.775 +/- 0.002\n",
      "\n",
      "Precisión de entrenamiento: 89.00 %\n",
      "Precisión esperada (aproximadamente): 89.00 %\n"
     ]
    }
   ],
   "source": [
    "#  Predice la probabilidad de ingreso para un estudiante con nota de 45 en el examen 1 y nota de 85 en el examen 2\n",
    "prob = sigmoid(np.dot([1, 45, 85], theta))\n",
    "print('Para un estudiante con notas de 45 y 85, se predice una probabilidad de admisión de: {:.3f}%'.format(prob))\n",
    "print('Valor esperado: 0.775 +/- 0.002\\n')\n",
    "\n",
    "# Compute accuracy on our training set\n",
    "p = predict(theta, X)\n",
    "print('Precisión de entrenamiento: {:.2f} %'.format(np.mean(p == y) * 100))\n",
    "print('Precisión esperada (aproximadamente): 89.00 %')"
   ]
  }
 ],
 "metadata": {
  "kernelspec": {
   "display_name": "Python 3.10.5 64-bit",
   "language": "python",
   "name": "python3"
  },
  "language_info": {
   "codemirror_mode": {
    "name": "ipython",
    "version": 3
   },
   "file_extension": ".py",
   "mimetype": "text/x-python",
   "name": "python",
   "nbconvert_exporter": "python",
   "pygments_lexer": "ipython3",
   "version": "3.10.5"
  },
  "vscode": {
   "interpreter": {
    "hash": "a9cff5a362bc38ef45d817ae74b1af54d6a076e3d773891282bce078b815ba34"
   }
  }
 },
 "nbformat": 4,
 "nbformat_minor": 2
}
